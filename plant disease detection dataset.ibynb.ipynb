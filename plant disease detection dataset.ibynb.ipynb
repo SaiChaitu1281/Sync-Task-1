{
 "cells": [
  {
   "cell_type": "code",
   "execution_count": null,
   "id": "44d3bccd",
   "metadata": {
    "execution": {
     "iopub.execute_input": "2023-05-16T02:50:56.750476Z",
     "iopub.status.busy": "2023-05-16T02:50:56.749285Z",
     "iopub.status.idle": "2023-05-16T02:50:56.780839Z",
     "shell.execute_reply": "2023-05-16T02:50:56.779614Z"
    },
    "papermill": {
     "duration": 0.04337,
     "end_time": "2023-05-16T02:50:56.783371",
     "exception": false,
     "start_time": "2023-05-16T02:50:56.740001",
     "status": "completed"
    },
    "tags": []
   },
   "outputs": [
    {
     "data": {
      "text/html": [
       "<div>\n",
       "<style scoped>\n",
       "    .dataframe tbody tr th:only-of-type {\n",
       "        vertical-align: middle;\n",
       "    }\n",
       "\n",
       "    .dataframe tbody tr th {\n",
       "        vertical-align: top;\n",
       "    }\n",
       "\n",
       "    .dataframe thead th {\n",
       "        text-align: right;\n",
       "    }\n",
       "</style>\n",
       "<table border=\"1\" class=\"dataframe\">\n",
       "  <thead>\n",
       "    <tr style=\"text-align: right;\">\n",
       "      <th></th>\n",
       "      <th>filename</th>\n",
       "      <th>label</th>\n",
       "    </tr>\n",
       "  </thead>\n",
       "  <tbody>\n",
       "    <tr>\n",
       "      <th>0</th>\n",
       "      <td>/kaggle/input/leaf-disease-classification/trai...</td>\n",
       "      <td>7</td>\n",
       "    </tr>\n",
       "    <tr>\n",
       "      <th>1</th>\n",
       "      <td>/kaggle/input/leaf-disease-classification/trai...</td>\n",
       "      <td>7</td>\n",
       "    </tr>\n",
       "    <tr>\n",
       "      <th>2</th>\n",
       "      <td>/kaggle/input/leaf-disease-classification/trai...</td>\n",
       "      <td>7</td>\n",
       "    </tr>\n",
       "    <tr>\n",
       "      <th>3</th>\n",
       "      <td>/kaggle/input/leaf-disease-classification/trai...</td>\n",
       "      <td>7</td>\n",
       "    </tr>\n",
       "    <tr>\n",
       "      <th>4</th>\n",
       "      <td>/kaggle/input/leaf-disease-classification/trai...</td>\n",
       "      <td>7</td>\n",
       "    </tr>\n",
       "  </tbody>\n",
       "</table>\n",
       "</div>"
      ],
      "text/plain": [
       "                                            filename label\n",
       "0  /kaggle/input/leaf-disease-classification/trai...     7\n",
       "1  /kaggle/input/leaf-disease-classification/trai...     7\n",
       "2  /kaggle/input/leaf-disease-classification/trai...     7\n",
       "3  /kaggle/input/leaf-disease-classification/trai...     7\n",
       "4  /kaggle/input/leaf-disease-classification/trai...     7"
      ]
     },
     "execution_count": 4,
     "metadata": {},
     "output_type": "execute_result"
    }
   ],
   "source": [
    "train['label'] = train['label'].str.split('/').str[0]\n",
    "train.head()"
   ]
  },
  {
   "cell_type": "code",
   "execution_count": null,
   "id": "9b592d6c",
   "metadata": {
    "execution": {
     "iopub.execute_input": "2023-05-16T02:50:56.800337Z",
     "iopub.status.busy": "2023-05-16T02:50:56.799887Z",
     "iopub.status.idle": "2023-05-16T02:50:57.152209Z",
     "shell.execute_reply": "2023-05-16T02:50:57.151090Z"
    },
    "papermill": {
     "duration": 0.364045,
     "end_time": "2023-05-16T02:50:57.154943",
     "exception": false,
     "start_time": "2023-05-16T02:50:56.790898",
     "status": "completed"
    },
    "tags": []
   },
   "outputs": [
    {
     "data": {
      "text/plain": [
       "['/kaggle/input/leaf-disease-classification/test/7/gkaopa30b7stwoxo6ady.jpg',\n",
       " '/kaggle/input/leaf-disease-classification/test/7/c3rxo3tdjelm7a9athn2.jpg',\n",
       " '/kaggle/input/leaf-disease-classification/test/7/nfr1v5nncc5qafn0felq.jpg',\n",
       " '/kaggle/input/leaf-disease-classification/test/7/cnugacybapknatskv28o.jpg',\n",
       " '/kaggle/input/leaf-disease-classification/test/7/kvdh4mr74vgvo2hqibaq.jpg']"
      ]
     },
     "execution_count": 5,
     "metadata": {},
     "output_type": "execute_result"
    }
   ],
   "source": [
    "Id=[]\n",
    "import numpy as np # linear algebra\n",
    "import pandas as pd # data processing, CSV file I/O (e.g. pd.read_csv)\n",
    "\n",
    "# Input data files are available in the read-only \"../input/\" directory\n",
    "# For example, running this (by clicking run or pressing Shift+Enter) will list all files under the input directory\n",
    "\n",
    "import os\n",
    "for dirname, _, filenames in os.walk('/kaggle/input/leaf-disease-classification/test'):\n",
    "    for filename in filenames:\n",
    "        Id.append(os.path.join(dirname, filename))\n",
    "Id[:5]"
   ]
  },
  {
   "cell_type": "code",
   "execution_count": null,
   "id": "2428f33d",
   "metadata": {
    "execution": {
     "iopub.execute_input": "2023-05-16T02:50:57.172623Z",
     "iopub.status.busy": "2023-05-16T02:50:57.171983Z",
     "iopub.status.idle": "2023-05-16T02:50:57.184050Z",
     "shell.execute_reply": "2023-05-16T02:50:57.182931Z"
    },
    "papermill": {
     "duration": 0.023599,
     "end_time": "2023-05-16T02:50:57.186370",
     "exception": false,
     "start_time": "2023-05-16T02:50:57.162771",
     "status": "completed"
    },
    "tags": []
   },
   "outputs": [
    {
     "data": {
      "text/html": [
       "<div>\n",
       "<style scoped>\n",
       "    .dataframe tbody tr th:only-of-type {\n",
       "        vertical-align: middle;\n",
       "    }\n",
       "\n",
       "    .dataframe tbody tr th {\n",
       "        vertical-align: top;\n",
       "    }\n",
       "\n",
       "    .dataframe thead th {\n",
       "        text-align: right;\n",
       "    }\n",
       "</style>\n",
       "<table border=\"1\" class=\"dataframe\">\n",
       "  <thead>\n",
       "    <tr style=\"text-align: right;\">\n",
       "      <th></th>\n",
       "      <th>filename</th>\n",
       "    </tr>\n",
       "  </thead>\n",
       "  <tbody>\n",
       "    <tr>\n",
       "      <th>0</th>\n",
       "      <td>/kaggle/input/leaf-disease-classification/test...</td>\n",
       "    </tr>\n",
       "    <tr>\n",
       "      <th>1</th>\n",
       "      <td>/kaggle/input/leaf-disease-classification/test...</td>\n",
       "    </tr>\n",
       "    <tr>\n",
       "      <th>2</th>\n",
       "      <td>/kaggle/input/leaf-disease-classification/test...</td>\n",
       "    </tr>\n",
       "    <tr>\n",
       "      <th>3</th>\n",
       "      <td>/kaggle/input/leaf-disease-classification/test...</td>\n",
       "    </tr>\n",
       "    <tr>\n",
       "      <th>4</th>\n",
       "      <td>/kaggle/input/leaf-disease-classification/test...</td>\n",
       "    </tr>\n",
       "  </tbody>\n",
       "</table>\n",
       "</div>"
      ],
      "text/plain": [
       "                                            filename\n",
       "0  /kaggle/input/leaf-disease-classification/test...\n",
       "1  /kaggle/input/leaf-disease-classification/test...\n",
       "2  /kaggle/input/leaf-disease-classification/test...\n",
       "3  /kaggle/input/leaf-disease-classification/test...\n",
       "4  /kaggle/input/leaf-disease-classification/test..."
      ]
     },
     "execution_count": 6,
     "metadata": {},
     "output_type": "execute_result"
    }
   ],
   "source": [
    "test=pd.DataFrame()\n",
    "test=test.assign(filename=Id)\n",
    "test.head()"
   ]
  },
  {
   "cell_type": "code",
   "execution_count": 7,
   "id": "75737ce9",
   "metadata": {
    "execution": {
     "iopub.execute_input": "2023-05-16T02:50:57.208698Z",
     "iopub.status.busy": "2023-05-16T02:50:57.208133Z",
     "iopub.status.idle": "2023-05-16T02:50:57.228576Z",
     "shell.execute_reply": "2023-05-16T02:50:57.227346Z"
    },
    "papermill": {
     "duration": 0.0363,
     "end_time": "2023-05-16T02:50:57.231113",
     "exception": false,
     "start_time": "2023-05-16T02:50:57.194813",
     "status": "completed"
    },
    "tags": []
   },
   "outputs": [
    {
     "data": {
      "text/html": [
       "<div>\n",
       "<style scoped>\n",
       "    .dataframe tbody tr th:only-of-type {\n",
       "        vertical-align: middle;\n",
       "    }\n",
       "\n",
       "    .dataframe tbody tr th {\n",
       "        vertical-align: top;\n",
       "    }\n",
       "\n",
       "    .dataframe thead th {\n",
       "        text-align: right;\n",
       "    }\n",
       "</style>\n",
       "<table border=\"1\" class=\"dataframe\">\n",
       "  <thead>\n",
       "    <tr style=\"text-align: right;\">\n",
       "      <th></th>\n",
       "      <th>filename</th>\n",
       "      <th>label</th>\n",
       "    </tr>\n",
       "  </thead>\n",
       "  <tbody>\n",
       "    <tr>\n",
       "      <th>0</th>\n",
       "      <td>/kaggle/input/leaf-disease-classification/test...</td>\n",
       "      <td>7/gkaopa30b7stwoxo6ady.jpg</td>\n",
       "    </tr>\n",
       "    <tr>\n",
       "      <th>1</th>\n",
       "      <td>/kaggle/input/leaf-disease-classification/test...</td>\n",
       "      <td>7/c3rxo3tdjelm7a9athn2.jpg</td>\n",
       "    </tr>\n",
       "    <tr>\n",
       "      <th>2</th>\n",
       "      <td>/kaggle/input/leaf-disease-classification/test...</td>\n",
       "      <td>7/nfr1v5nncc5qafn0felq.jpg</td>\n",
       "    </tr>\n",
       "    <tr>\n",
       "      <th>3</th>\n",
       "      <td>/kaggle/input/leaf-disease-classification/test...</td>\n",
       "      <td>7/cnugacybapknatskv28o.jpg</td>\n",
       "    </tr>\n",
       "    <tr>\n",
       "      <th>4</th>\n",
       "      <td>/kaggle/input/leaf-disease-classification/test...</td>\n",
       "      <td>7/kvdh4mr74vgvo2hqibaq.jpg</td>\n",
       "    </tr>\n",
       "  </tbody>\n",
       "</table>\n",
       "</div>"
      ],
      "text/plain": [
       "                                            filename  \\\n",
       "0  /kaggle/input/leaf-disease-classification/test...   \n",
       "1  /kaggle/input/leaf-disease-classification/test...   \n",
       "2  /kaggle/input/leaf-disease-classification/test...   \n",
       "3  /kaggle/input/leaf-disease-classification/test...   \n",
       "4  /kaggle/input/leaf-disease-classification/test...   \n",
       "\n",
       "                        label  \n",
       "0  7/gkaopa30b7stwoxo6ady.jpg  \n",
       "1  7/c3rxo3tdjelm7a9athn2.jpg  \n",
       "2  7/nfr1v5nncc5qafn0felq.jpg  \n",
       "3  7/cnugacybapknatskv28o.jpg  \n",
       "4  7/kvdh4mr74vgvo2hqibaq.jpg  "
      ]
     },
     "execution_count": 7,
     "metadata": {},
     "output_type": "execute_result"
    }
   ],
   "source": [
    "test['label']=test['filename']\n",
    "test['label']=test['label'].str.replace('/kaggle/input/leaf-disease-classification/test/','')\n",
    "test.head()"
   ]
  },
  {
   "cell_type": "code",
   "execution_count": null,
   "id": "84f79342",
   "metadata": {
    "execution": {
     "iopub.execute_input": "2023-05-16T02:50:57.257747Z",
     "iopub.status.busy": "2023-05-16T02:50:57.256558Z",
     "iopub.status.idle": "2023-05-16T02:50:57.273917Z",
     "shell.execute_reply": "2023-05-16T02:50:57.272252Z"
    },
    "papermill": {
     "duration": 0.041727,
     "end_time": "2023-05-16T02:50:57.283877",
     "exception": false,
     "start_time": "2023-05-16T02:50:57.242150",
     "status": "completed"
    },
    "tags": []
   },
   "outputs": [
    {
     "data": {
      "text/html": [
       "<div>\n",
       "<style scoped>\n",
       "    .dataframe tbody tr th:only-of-type {\n",
       "        vertical-align: middle;\n",
       "    }\n",
       "\n",
       "    .dataframe tbody tr th {\n",
       "        vertical-align: top;\n",
       "    }\n",
       "\n",
       "    .dataframe thead th {\n",
       "        text-align: right;\n",
       "    }\n",
       "</style>\n",
       "<table border=\"1\" class=\"dataframe\">\n",
       "  <thead>\n",
       "    <tr style=\"text-align: right;\">\n",
       "      <th></th>\n",
       "      <th>filename</th>\n",
       "      <th>label</th>\n",
       "    </tr>\n",
       "  </thead>\n",
       "  <tbody>\n",
       "    <tr>\n",
       "      <th>0</th>\n",
       "      <td>/kaggle/input/leaf-disease-classification/test...</td>\n",
       "      <td>7</td>\n",
       "    </tr>\n",
       "    <tr>\n",
       "      <th>1</th>\n",
       "      <td>/kaggle/input/leaf-disease-classification/test...</td>\n",
       "      <td>7</td>\n",
       "    </tr>\n",
       "    <tr>\n",
       "      <th>2</th>\n",
       "      <td>/kaggle/input/leaf-disease-classification/test...</td>\n",
       "      <td>7</td>\n",
       "    </tr>\n",
       "    <tr>\n",
       "      <th>3</th>\n",
       "      <td>/kaggle/input/leaf-disease-classification/test...</td>\n",
       "      <td>7</td>\n",
       "    </tr>\n",
       "    <tr>\n",
       "      <th>4</th>\n",
       "      <td>/kaggle/input/leaf-disease-classification/test...</td>\n",
       "      <td>7</td>\n",
       "    </tr>\n",
       "  </tbody>\n",
       "</table>\n",
       "</div>"
      ],
      "text/plain": [
       "                                            filename label\n",
       "0  /kaggle/input/leaf-disease-classification/test...     7\n",
       "1  /kaggle/input/leaf-disease-classification/test...     7\n",
       "2  /kaggle/input/leaf-disease-classification/test...     7\n",
       "3  /kaggle/input/leaf-disease-classification/test...     7\n",
       "4  /kaggle/input/leaf-disease-classification/test...     7"
      ]
     },
     "execution_count": 8,
     "metadata": {},
     "output_type": "execute_result"
    }
   ],
   "source": [
    "test['label'] = test['label'].str.split('/').str[0]\n",
    "test.head()"
   ]
  },
  {
   "cell_type": "code",
   "execution_count": 9,
   "id": "744e3194",
   "metadata": {
    "execution": {
     "iopub.execute_input": "2023-05-16T02:50:57.304159Z",
     "iopub.status.busy": "2023-05-16T02:50:57.302809Z",
     "iopub.status.idle": "2023-05-16T02:51:18.493254Z",
     "shell.execute_reply": "2023-05-16T02:51:18.492053Z"
    },
    "papermill": {
     "duration": 21.203508,
     "end_time": "2023-05-16T02:51:18.496039",
     "exception": false,
     "start_time": "2023-05-16T02:50:57.292531",
     "status": "completed"
    },
    "tags": []
   },
   "outputs": [
    {
     "name": "stderr",
     "output_type": "stream",
     "text": [
      "/opt/conda/lib/python3.10/site-packages/scipy/__init__.py:146: UserWarning: A NumPy version >=1.16.5 and <1.23.0 is required for this version of SciPy (detected version 1.23.5\n",
      "  warnings.warn(f\"A NumPy version >={np_minversion} and <{np_maxversion}\"\n"
     ]
    }
   ],
   "source": [
    "import tensorflow as tf\n",
    "import numpy as np \n",
    "from PIL import Image\n",
    "\n",
    "model = tf.saved_model.load('/kaggle/input/resnet50-leaf-disease-classification/ResNet50')\n",
    "classes = [ \"0\" ,  \"1\" ,  \"2\" ,  \"3\" ,  \"4\" ,  \"5\" ,  \"6\" ,  \"7\" ,  \"8\" ,  \"9\" , ]"
   ]
  },
  {
   "cell_type": "code",
   "execution_count": 10,
   "id": "2d8f34ee",
   "metadata": {
    "execution": {
     "iopub.execute_input": "2023-05-16T02:51:18.516179Z",
     "iopub.status.busy": "2023-05-16T02:51:18.515750Z",
     "iopub.status.idle": "2023-05-16T02:58:49.613038Z",
     "shell.execute_reply": "2023-05-16T02:58:49.611783Z"
    },
    "papermill": {
     "duration": 451.113291,
     "end_time": "2023-05-16T02:58:49.618834",
     "exception": false,
     "start_time": "2023-05-16T02:51:18.505543",
     "status": "completed"
    },
    "tags": []
   },
   "outputs": [
    {
     "name": "stderr",
     "output_type": "stream",
     "text": [
      "/tmp/ipykernel_20/564266034.py:4: DeprecationWarning: ANTIALIAS is deprecated and will be removed in Pillow 10 (2023-07-01). Use LANCZOS or Resampling.LANCZOS instead.\n",
      "  img = img.resize((300, 300 * img.size[1] // img.size[0]), Image.ANTIALIAS)\n"
     ]
    },
    {
     "data": {
      "text/plain": [
       "['0', '7', '1', '8', '7']"
      ]
     },
     "execution_count": 10,
     "metadata": {},
     "output_type": "execute_result"
    }
   ],
   "source": [
    "result=[]\n",
    "for i in test.filename:\n",
    "    img = Image.open(i).convert('RGB')\n",
    "    img = img.resize((300, 300 * img.size[1] // img.size[0]), Image.ANTIALIAS)\n",
    "    inp_numpy = np.array(img)[None]\n",
    "    inp = tf.constant(inp_numpy, dtype='float32')\n",
    "    class_scores = model(inp)[0].numpy()\n",
    "    result.append(classes[class_scores.argmax()])\n",
    "result[:5]"
   ]
  },
  {
   "cell_type": "code",
   "execution_count": 11,
   "id": "dfcd13f6",
   "metadata": {
    "execution": {
     "iopub.execute_input": "2023-05-16T02:58:49.638851Z",
     "iopub.status.busy": "2023-05-16T02:58:49.638147Z",
     "iopub.status.idle": "2023-05-16T02:58:49.653394Z",
     "shell.execute_reply": "2023-05-16T02:58:49.652222Z"
    },
    "papermill": {
     "duration": 0.02864,
     "end_time": "2023-05-16T02:58:49.656331",
     "exception": false,
     "start_time": "2023-05-16T02:58:49.627691",
     "status": "completed"
    },
    "tags": []
   },
   "outputs": [
    {
     "data": {
      "text/html": [
       "<div>\n",
       "<style scoped>\n",
       "    .dataframe tbody tr th:only-of-type {\n",
       "        vertical-align: middle;\n",
       "    }\n",
       "\n",
       "    .dataframe tbody tr th {\n",
       "        vertical-align: top;\n",
       "    }\n",
       "\n",
       "    .dataframe thead th {\n",
       "        text-align: right;\n",
       "    }\n",
       "</style>\n",
       "<table border=\"1\" class=\"dataframe\">\n",
       "  <thead>\n",
       "    <tr style=\"text-align: right;\">\n",
       "      <th></th>\n",
       "      <th>filename</th>\n",
       "      <th>label</th>\n",
       "      <th>prediction</th>\n",
       "    </tr>\n",
       "  </thead>\n",
       "  <tbody>\n",
       "    <tr>\n",
       "      <th>0</th>\n",
       "      <td>/kaggle/input/leaf-disease-classification/test...</td>\n",
       "      <td>7</td>\n",
       "      <td>0</td>\n",
       "    </tr>\n",
       "    <tr>\n",
       "      <th>1</th>\n",
       "      <td>/kaggle/input/leaf-disease-classification/test...</td>\n",
       "      <td>7</td>\n",
       "      <td>7</td>\n",
       "    </tr>\n",
       "    <tr>\n",
       "      <th>2</th>\n",
       "      <td>/kaggle/input/leaf-disease-classification/test...</td>\n",
       "      <td>7</td>\n",
       "      <td>1</td>\n",
       "    </tr>\n",
       "    <tr>\n",
       "      <th>3</th>\n",
       "      <td>/kaggle/input/leaf-disease-classification/test...</td>\n",
       "      <td>7</td>\n",
       "      <td>8</td>\n",
       "    </tr>\n",
       "    <tr>\n",
       "      <th>4</th>\n",
       "      <td>/kaggle/input/leaf-disease-classification/test...</td>\n",
       "      <td>7</td>\n",
       "      <td>7</td>\n",
       "    </tr>\n",
       "  </tbody>\n",
       "</table>\n",
       "</div>"
      ],
      "text/plain": [
       "                                            filename label prediction\n",
       "0  /kaggle/input/leaf-disease-classification/test...     7          0\n",
       "1  /kaggle/input/leaf-disease-classification/test...     7          7\n",
       "2  /kaggle/input/leaf-disease-classification/test...     7          1\n",
       "3  /kaggle/input/leaf-disease-classification/test...     7          8\n",
       "4  /kaggle/input/leaf-disease-classification/test...     7          7"
      ]
     },
     "execution_count": 11,
     "metadata": {},
     "output_type": "execute_result"
    }
   ],
   "source": [
    "test=test.assign(prediction=result)\n",
    "test.head()"
   ]
  },
  {
   "cell_type": "code",
   "execution_count": 12,
   "id": "c0b2944f",
   "metadata": {
    "execution": {
     "iopub.execute_input": "2023-05-16T02:58:49.678756Z",
     "iopub.status.busy": "2023-05-16T02:58:49.677566Z",
     "iopub.status.idle": "2023-05-16T03:29:11.028178Z",
     "shell.execute_reply": "2023-05-16T03:29:11.026908Z"
    },
    "papermill": {
     "duration": 1821.372454,
     "end_time": "2023-05-16T03:29:11.038661",
     "exception": false,
     "start_time": "2023-05-16T02:58:49.666207",
     "status": "completed"
    },
    "tags": []
   },
   "outputs": [
    {
     "name": "stderr",
     "output_type": "stream",
     "text": [
      "/tmp/ipykernel_20/1967585974.py:4: DeprecationWarning: ANTIALIAS is deprecated and will be removed in Pillow 10 (2023-07-01). Use LANCZOS or Resampling.LANCZOS instead.\n",
      "  img = img.resize((300, 300 * img.size[1] // img.size[0]), Image.ANTIALIAS)\n"
     ]
    },
    {
     "data": {
      "text/plain": [
       "['7', '7', '7', '0', '1']"
      ]
     },
     "execution_count": 12,
     "metadata": {},
     "output_type": "execute_result"
    }
   ],
   "source": [
    "result=[]\n",
    "for i in train.filename:\n",
    "    img = Image.open(i).convert('RGB')\n",
    "    img = img.resize((300, 300 * img.size[1] // img.size[0]), Image.ANTIALIAS)\n",
    "    inp_numpy = np.array(img)[None]\n",
    "    inp = tf.constant(inp_numpy, dtype='float32')\n",
    "    class_scores = model(inp)[0].numpy()\n",
    "    result.append(classes[class_scores.argmax()])\n",
    "result[:5]"
   ]
  },
  {
   "cell_type": "code",
   "execution_count": 13,
   "id": "74a4e74c",
   "metadata": {
    "execution": {
     "iopub.execute_input": "2023-05-16T03:29:11.059660Z",
     "iopub.status.busy": "2023-05-16T03:29:11.058932Z",
     "iopub.status.idle": "2023-05-16T03:29:11.072712Z",
     "shell.execute_reply": "2023-05-16T03:29:11.071463Z"
    },
    "papermill": {
     "duration": 0.027511,
     "end_time": "2023-05-16T03:29:11.075330",
     "exception": false,
     "start_time": "2023-05-16T03:29:11.047819",
     "status": "completed"
    },
    "tags": []
   },
   "outputs": [
    {
     "data": {
      "text/html": [
       "<div>\n",
       "<style scoped>\n",
       "    .dataframe tbody tr th:only-of-type {\n",
       "        vertical-align: middle;\n",
       "    }\n",
       "\n",
       "    .dataframe tbody tr th {\n",
       "        vertical-align: top;\n",
       "    }\n",
       "\n",
       "    .dataframe thead th {\n",
       "        text-align: right;\n",
       "    }\n",
       "</style>\n",
       "<table border=\"1\" class=\"dataframe\">\n",
       "  <thead>\n",
       "    <tr style=\"text-align: right;\">\n",
       "      <th></th>\n",
       "      <th>filename</th>\n",
       "      <th>label</th>\n",
       "      <th>prediction</th>\n",
       "    </tr>\n",
       "  </thead>\n",
       "  <tbody>\n",
       "    <tr>\n",
       "      <th>0</th>\n",
       "      <td>/kaggle/input/leaf-disease-classification/trai...</td>\n",
       "      <td>7</td>\n",
       "      <td>7</td>\n",
       "    </tr>\n",
       "    <tr>\n",
       "      <th>1</th>\n",
       "      <td>/kaggle/input/leaf-disease-classification/trai...</td>\n",
       "      <td>7</td>\n",
       "      <td>7</td>\n",
       "    </tr>\n",
       "    <tr>\n",
       "      <th>2</th>\n",
       "      <td>/kaggle/input/leaf-disease-classification/trai...</td>\n",
       "      <td>7</td>\n",
       "      <td>7</td>\n",
       "    </tr>\n",
       "    <tr>\n",
       "      <th>3</th>\n",
       "      <td>/kaggle/input/leaf-disease-classification/trai...</td>\n",
       "      <td>7</td>\n",
       "      <td>0</td>\n",
       "    </tr>\n",
       "    <tr>\n",
       "      <th>4</th>\n",
       "      <td>/kaggle/input/leaf-disease-classification/trai...</td>\n",
       "      <td>7</td>\n",
       "      <td>1</td>\n",
       "    </tr>\n",
       "  </tbody>\n",
       "</table>\n",
       "</div>"
      ],
      "text/plain": [
       "                                            filename label prediction\n",
       "0  /kaggle/input/leaf-disease-classification/trai...     7          7\n",
       "1  /kaggle/input/leaf-disease-classification/trai...     7          7\n",
       "2  /kaggle/input/leaf-disease-classification/trai...     7          7\n",
       "3  /kaggle/input/leaf-disease-classification/trai...     7          0\n",
       "4  /kaggle/input/leaf-disease-classification/trai...     7          1"
      ]
     },
     "execution_count": 13,
     "metadata": {},
     "output_type": "execute_result"
    }
   ],
   "source": [
    "train=train.assign(prediction=result)\n",
    "train.head()"
   ]
  },
  {
   "cell_type": "code",
   "execution_count": 14,
   "id": "f2ebf802",
   "metadata": {
    "execution": {
     "iopub.execute_input": "2023-05-16T03:29:11.097017Z",
     "iopub.status.busy": "2023-05-16T03:29:11.096313Z",
     "iopub.status.idle": "2023-05-16T03:29:13.087789Z",
     "shell.execute_reply": "2023-05-16T03:29:13.086551Z"
    },
    "papermill": {
     "duration": 2.005528,
     "end_time": "2023-05-16T03:29:13.090365",
     "exception": false,
     "start_time": "2023-05-16T03:29:11.084837",
     "status": "completed"
    },
    "tags": []
   },
   "outputs": [
    {
     "name": "stdout",
     "output_type": "stream",
     "text": [
      "              precision    recall  f1-score   support\n",
      "\n",
      "           0       0.93      0.99      0.96      1215\n",
      "           1       0.91      0.93      0.92       575\n",
      "           2       0.96      0.99      0.97       902\n",
      "           3       0.91      0.99      0.95      1068\n",
      "           4       0.99      1.00      0.99      2975\n",
      "           5       0.84      0.99      0.91       542\n",
      "           6       0.96      0.91      0.93       214\n",
      "           7       0.99      0.84      0.91       989\n",
      "           8       0.98      0.82      0.89       791\n",
      "           9       0.97      0.93      0.94       898\n",
      "\n",
      "    accuracy                           0.95     10169\n",
      "   macro avg       0.94      0.94      0.94     10169\n",
      "weighted avg       0.96      0.95      0.95     10169\n",
      "\n"
     ]
    }
   ],
   "source": [
    "from sklearn.metrics import classification_report\n",
    "print(classification_report(train['label'],train['prediction']))"
   ]
  },
  {
   "cell_type": "code",
   "execution_count": 15,
   "id": "3962d949",
   "metadata": {
    "execution": {
     "iopub.execute_input": "2023-05-16T03:29:13.112481Z",
     "iopub.status.busy": "2023-05-16T03:29:13.111976Z",
     "iopub.status.idle": "2023-05-16T03:29:13.246038Z",
     "shell.execute_reply": "2023-05-16T03:29:13.244616Z"
    },
    "papermill": {
     "duration": 0.148183,
     "end_time": "2023-05-16T03:29:13.248838",
     "exception": false,
     "start_time": "2023-05-16T03:29:13.100655",
     "status": "completed"
    },
    "tags": []
   },
   "outputs": [
    {
     "name": "stdout",
     "output_type": "stream",
     "text": [
      "              precision    recall  f1-score   support\n",
      "\n",
      "           0       0.90      0.98      0.94       304\n",
      "           1       0.86      0.87      0.86       144\n",
      "           2       0.94      0.99      0.97       225\n",
      "           3       0.89      0.96      0.92       267\n",
      "           4       0.98      0.99      0.99       744\n",
      "           5       0.77      0.99      0.87       136\n",
      "           6       0.94      0.89      0.91        54\n",
      "           7       0.99      0.81      0.89       247\n",
      "           8       0.97      0.74      0.84       198\n",
      "           9       0.94      0.91      0.92       224\n",
      "\n",
      "    accuracy                           0.93      2543\n",
      "   macro avg       0.92      0.91      0.91      2543\n",
      "weighted avg       0.94      0.93      0.93      2543\n",
      "\n"
     ]
    }
   ],
   "source": [
    "print(classification_report(test['label'],test['prediction']))"
   ]
  },
  {
   "cell_type": "code",
   "execution_count": 16,
   "id": "4d576933",
   "metadata": {
    "execution": {
     "iopub.execute_input": "2023-05-16T03:29:13.271236Z",
     "iopub.status.busy": "2023-05-16T03:29:13.270234Z",
     "iopub.status.idle": "2023-05-16T03:29:13.298269Z",
     "shell.execute_reply": "2023-05-16T03:29:13.297337Z"
    },
    "papermill": {
     "duration": 0.041826,
     "end_time": "2023-05-16T03:29:13.300698",
     "exception": false,
     "start_time": "2023-05-16T03:29:13.258872",
     "status": "completed"
    },
    "tags": []
   },
   "outputs": [
    {
     "data": {
      "text/html": [
       "<div>\n",
       "<style scoped>\n",
       "    .dataframe tbody tr th:only-of-type {\n",
       "        vertical-align: middle;\n",
       "    }\n",
       "\n",
       "    .dataframe tbody tr th {\n",
       "        vertical-align: top;\n",
       "    }\n",
       "\n",
       "    .dataframe thead th {\n",
       "        text-align: right;\n",
       "    }\n",
       "</style>\n",
       "<table border=\"1\" class=\"dataframe\">\n",
       "  <thead>\n",
       "    <tr style=\"text-align: right;\">\n",
       "      <th></th>\n",
       "      <th>Image</th>\n",
       "    </tr>\n",
       "  </thead>\n",
       "  <tbody>\n",
       "    <tr>\n",
       "      <th>0</th>\n",
       "      <td>kc0yq3aoedc1b0v05gwp.jpg</td>\n",
       "    </tr>\n",
       "    <tr>\n",
       "      <th>1</th>\n",
       "      <td>udxt71dqhpo3je6alnu3.jpg</td>\n",
       "    </tr>\n",
       "    <tr>\n",
       "      <th>2</th>\n",
       "      <td>n05xwwbvd8t0k2s6vxim.jpg</td>\n",
       "    </tr>\n",
       "    <tr>\n",
       "      <th>3</th>\n",
       "      <td>fe2udf0166l7e914798x.jpg</td>\n",
       "    </tr>\n",
       "    <tr>\n",
       "      <th>4</th>\n",
       "      <td>royn55uoa0oc330cmivt.jpg</td>\n",
       "    </tr>\n",
       "  </tbody>\n",
       "</table>\n",
       "</div>"
      ],
      "text/plain": [
       "                      Image\n",
       "0  kc0yq3aoedc1b0v05gwp.jpg\n",
       "1  udxt71dqhpo3je6alnu3.jpg\n",
       "2  n05xwwbvd8t0k2s6vxim.jpg\n",
       "3  fe2udf0166l7e914798x.jpg\n",
       "4  royn55uoa0oc330cmivt.jpg"
      ]
     },
     "execution_count": 16,
     "metadata": {},
     "output_type": "execute_result"
    }
   ],
   "source": [
    "sol=pd.read_csv('/kaggle/input/leaf-disease-classification/submission.csv')\n",
    "sol.head()"
   ]
  },
  {
   "cell_type": "code",
   "execution_count": 17,
   "id": "b7ad9f08",
   "metadata": {
    "execution": {
     "iopub.execute_input": "2023-05-16T03:29:13.324372Z",
     "iopub.status.busy": "2023-05-16T03:29:13.323278Z",
     "iopub.status.idle": "2023-05-16T03:29:13.337052Z",
     "shell.execute_reply": "2023-05-16T03:29:13.336139Z"
    },
    "papermill": {
     "duration": 0.028303,
     "end_time": "2023-05-16T03:29:13.339418",
     "exception": false,
     "start_time": "2023-05-16T03:29:13.311115",
     "status": "completed"
    },
    "tags": []
   },
   "outputs": [
    {
     "data": {
      "text/html": [
       "<div>\n",
       "<style scoped>\n",
       "    .dataframe tbody tr th:only-of-type {\n",
       "        vertical-align: middle;\n",
       "    }\n",
       "\n",
       "    .dataframe tbody tr th {\n",
       "        vertical-align: top;\n",
       "    }\n",
       "\n",
       "    .dataframe thead th {\n",
       "        text-align: right;\n",
       "    }\n",
       "</style>\n",
       "<table border=\"1\" class=\"dataframe\">\n",
       "  <thead>\n",
       "    <tr style=\"text-align: right;\">\n",
       "      <th></th>\n",
       "      <th>Image</th>\n",
       "      <th>filename</th>\n",
       "    </tr>\n",
       "  </thead>\n",
       "  <tbody>\n",
       "    <tr>\n",
       "      <th>0</th>\n",
       "      <td>kc0yq3aoedc1b0v05gwp.jpg</td>\n",
       "      <td>/kaggle/input/leaf-disease-classification/sol/...</td>\n",
       "    </tr>\n",
       "    <tr>\n",
       "      <th>1</th>\n",
       "      <td>udxt71dqhpo3je6alnu3.jpg</td>\n",
       "      <td>/kaggle/input/leaf-disease-classification/sol/...</td>\n",
       "    </tr>\n",
       "    <tr>\n",
       "      <th>2</th>\n",
       "      <td>n05xwwbvd8t0k2s6vxim.jpg</td>\n",
       "      <td>/kaggle/input/leaf-disease-classification/sol/...</td>\n",
       "    </tr>\n",
       "    <tr>\n",
       "      <th>3</th>\n",
       "      <td>fe2udf0166l7e914798x.jpg</td>\n",
       "      <td>/kaggle/input/leaf-disease-classification/sol/...</td>\n",
       "    </tr>\n",
       "    <tr>\n",
       "      <th>4</th>\n",
       "      <td>royn55uoa0oc330cmivt.jpg</td>\n",
       "      <td>/kaggle/input/leaf-disease-classification/sol/...</td>\n",
       "    </tr>\n",
       "  </tbody>\n",
       "</table>\n",
       "</div>"
      ],
      "text/plain": [
       "                      Image                                           filename\n",
       "0  kc0yq3aoedc1b0v05gwp.jpg  /kaggle/input/leaf-disease-classification/sol/...\n",
       "1  udxt71dqhpo3je6alnu3.jpg  /kaggle/input/leaf-disease-classification/sol/...\n",
       "2  n05xwwbvd8t0k2s6vxim.jpg  /kaggle/input/leaf-disease-classification/sol/...\n",
       "3  fe2udf0166l7e914798x.jpg  /kaggle/input/leaf-disease-classification/sol/...\n",
       "4  royn55uoa0oc330cmivt.jpg  /kaggle/input/leaf-disease-classification/sol/..."
      ]
     },
     "execution_count": 17,
     "metadata": {},
     "output_type": "execute_result"
    }
   ],
   "source": [
    "sol['filename']='/kaggle/input/leaf-disease-classification/sol/'+sol['Image']\n",
    "sol.head()"
   ]
  },
  {
   "cell_type": "code",
   "execution_count": 18,
   "id": "2d4b8b81",
   "metadata": {
    "execution": {
     "iopub.execute_input": "2023-05-16T03:29:13.362804Z",
     "iopub.status.busy": "2023-05-16T03:29:13.362351Z",
     "iopub.status.idle": "2023-05-16T03:45:26.571428Z",
     "shell.execute_reply": "2023-05-16T03:45:26.570291Z"
    },
    "papermill": {
     "duration": 973.2345,
     "end_time": "2023-05-16T03:45:26.584578",
     "exception": false,
     "start_time": "2023-05-16T03:29:13.350078",
     "status": "completed"
    },
    "tags": []
   },
   "outputs": [
    {
     "name": "stderr",
     "output_type": "stream",
     "text": [
      "/tmp/ipykernel_20/3826586461.py:4: DeprecationWarning: ANTIALIAS is deprecated and will be removed in Pillow 10 (2023-07-01). Use LANCZOS or Resampling.LANCZOS instead.\n",
      "  img = img.resize((300, 300 * img.size[1] // img.size[0]), Image.ANTIALIAS)\n"
     ]
    },
    {
     "data": {
      "text/plain": [
       "['7', '0', '4', '3', '4']"
      ]
     },
     "execution_count": 18,
     "metadata": {},
     "output_type": "execute_result"
    }
   ],
   "source": [
    "result=[]\n",
    "for i in sol.filename:\n",
    "    img = Image.open(i).convert('RGB')\n",
    "    img = img.resize((300, 300 * img.size[1] // img.size[0]), Image.ANTIALIAS)\n",
    "    inp_numpy = np.array(img)[None]\n",
    "    inp = tf.constant(inp_numpy, dtype='float32')\n",
    "    class_scores = model(inp)[0].numpy()\n",
    "    result.append(classes[class_scores.argmax()])\n",
    "result[:5]"
   ]
  },
  {
   "cell_type": "code",
   "execution_count": 19,
   "id": "81bd6839",
   "metadata": {
    "execution": {
     "iopub.execute_input": "2023-05-16T03:45:26.609932Z",
     "iopub.status.busy": "2023-05-16T03:45:26.608536Z",
     "iopub.status.idle": "2023-05-16T03:45:26.622439Z",
     "shell.execute_reply": "2023-05-16T03:45:26.621230Z"
    },
    "papermill": {
     "duration": 0.02888,
     "end_time": "2023-05-16T03:45:26.624893",
     "exception": false,
     "start_time": "2023-05-16T03:45:26.596013",
     "status": "completed"
    },
    "tags": []
   },
   "outputs": [
    {
     "data": {
      "text/html": [
       "<div>\n",
       "<style scoped>\n",
       "    .dataframe tbody tr th:only-of-type {\n",
       "        vertical-align: middle;\n",
       "    }\n",
       "\n",
       "    .dataframe tbody tr th {\n",
       "        vertical-align: top;\n",
       "    }\n",
       "\n",
       "    .dataframe thead th {\n",
       "        text-align: right;\n",
       "    }\n",
       "</style>\n",
       "<table border=\"1\" class=\"dataframe\">\n",
       "  <thead>\n",
       "    <tr style=\"text-align: right;\">\n",
       "      <th></th>\n",
       "      <th>Image</th>\n",
       "      <th>filename</th>\n",
       "      <th>Label</th>\n",
       "    </tr>\n",
       "  </thead>\n",
       "  <tbody>\n",
       "    <tr>\n",
       "      <th>0</th>\n",
       "      <td>kc0yq3aoedc1b0v05gwp.jpg</td>\n",
       "      <td>/kaggle/input/leaf-disease-classification/sol/...</td>\n",
       "      <td>7</td>\n",
       "    </tr>\n",
       "    <tr>\n",
       "      <th>1</th>\n",
       "      <td>udxt71dqhpo3je6alnu3.jpg</td>\n",
       "      <td>/kaggle/input/leaf-disease-classification/sol/...</td>\n",
       "      <td>0</td>\n",
       "    </tr>\n",
       "    <tr>\n",
       "      <th>2</th>\n",
       "      <td>n05xwwbvd8t0k2s6vxim.jpg</td>\n",
       "      <td>/kaggle/input/leaf-disease-classification/sol/...</td>\n",
       "      <td>4</td>\n",
       "    </tr>\n",
       "    <tr>\n",
       "      <th>3</th>\n",
       "      <td>fe2udf0166l7e914798x.jpg</td>\n",
       "      <td>/kaggle/input/leaf-disease-classification/sol/...</td>\n",
       "      <td>3</td>\n",
       "    </tr>\n",
       "    <tr>\n",
       "      <th>4</th>\n",
       "      <td>royn55uoa0oc330cmivt.jpg</td>\n",
       "      <td>/kaggle/input/leaf-disease-classification/sol/...</td>\n",
       "      <td>4</td>\n",
       "    </tr>\n",
       "  </tbody>\n",
       "</table>\n",
       "</div>"
      ],
      "text/plain": [
       "                      Image  \\\n",
       "0  kc0yq3aoedc1b0v05gwp.jpg   \n",
       "1  udxt71dqhpo3je6alnu3.jpg   \n",
       "2  n05xwwbvd8t0k2s6vxim.jpg   \n",
       "3  fe2udf0166l7e914798x.jpg   \n",
       "4  royn55uoa0oc330cmivt.jpg   \n",
       "\n",
       "                                            filename Label  \n",
       "0  /kaggle/input/leaf-disease-classification/sol/...     7  \n",
       "1  /kaggle/input/leaf-disease-classification/sol/...     0  \n",
       "2  /kaggle/input/leaf-disease-classification/sol/...     4  \n",
       "3  /kaggle/input/leaf-disease-classification/sol/...     3  \n",
       "4  /kaggle/input/leaf-disease-classification/sol/...     4  "
      ]
     },
     "execution_count": 19,
     "metadata": {},
     "output_type": "execute_result"
    }
   ],
   "source": [
    "sol=sol.assign(Label=result)\n",
    "sol.head()"
   ]
  },
  {
   "cell_type": "code",
   "execution_count": 20,
   "id": "421fb182",
   "metadata": {
    "execution": {
     "iopub.execute_input": "2023-05-16T03:45:26.649550Z",
     "iopub.status.busy": "2023-05-16T03:45:26.648400Z",
     "iopub.status.idle": "2023-05-16T03:45:26.662841Z",
     "shell.execute_reply": "2023-05-16T03:45:26.661715Z"
    },
    "papermill": {
     "duration": 0.029424,
     "end_time": "2023-05-16T03:45:26.665406",
     "exception": false,
     "start_time": "2023-05-16T03:45:26.635982",
     "status": "completed"
    },
    "tags": []
   },
   "outputs": [
    {
     "data": {
      "text/html": [
       "<div>\n",
       "<style scoped>\n",
       "    .dataframe tbody tr th:only-of-type {\n",
       "        vertical-align: middle;\n",
       "    }\n",
       "\n",
       "    .dataframe tbody tr th {\n",
       "        vertical-align: top;\n",
       "    }\n",
       "\n",
       "    .dataframe thead th {\n",
       "        text-align: right;\n",
       "    }\n",
       "</style>\n",
       "<table border=\"1\" class=\"dataframe\">\n",
       "  <thead>\n",
       "    <tr style=\"text-align: right;\">\n",
       "      <th></th>\n",
       "      <th>Label</th>\n",
       "    </tr>\n",
       "  </thead>\n",
       "  <tbody>\n",
       "    <tr>\n",
       "      <th>0</th>\n",
       "      <td>7</td>\n",
       "    </tr>\n",
       "    <tr>\n",
       "      <th>1</th>\n",
       "      <td>0</td>\n",
       "    </tr>\n",
       "    <tr>\n",
       "      <th>2</th>\n",
       "      <td>4</td>\n",
       "    </tr>\n",
       "    <tr>\n",
       "      <th>3</th>\n",
       "      <td>3</td>\n",
       "    </tr>\n",
       "    <tr>\n",
       "      <th>4</th>\n",
       "      <td>4</td>\n",
       "    </tr>\n",
       "  </tbody>\n",
       "</table>\n",
       "</div>"
      ],
      "text/plain": [
       "  Label\n",
       "0     7\n",
       "1     0\n",
       "2     4\n",
       "3     3\n",
       "4     4"
      ]
     },
     "execution_count": 20,
     "metadata": {},
     "output_type": "execute_result"
    }
   ],
   "source": [
    "sol=sol[['Label']]\n",
    "sol.head()"
   ]
  },
  {
   "cell_type": "code",
   "execution_count": null,
   "id": "e514fa29",
   "metadata": {
    "execution": {
     "iopub.execute_input": "2023-05-16T03:45:26.691355Z",
     "iopub.status.busy": "2023-05-16T03:45:26.690588Z",
     "iopub.status.idle": "2023-05-16T03:45:26.712653Z",
     "shell.execute_reply": "2023-05-16T03:45:26.711646Z"
    },
    "papermill": {
     "duration": 0.037868,
     "end_time": "2023-05-16T03:45:26.715203",
     "exception": false,
     "start_time": "2023-05-16T03:45:26.677335",
     "status": "completed"
    },
    "tags": []
   },
   "outputs": [],
   "source": [
    "sol.to_csv('./ResNet50.csv',index=False)"
   ]
  }
 ],
 "metadata": {
  "kernelspec": {
   "display_name": "Python 3",
   "language": "python",
   "name": "python3"
  },
  "language_info": {
   "codemirror_mode": {
    "name": "ipython",
    "version": 3
   },
   "file_extension": ".py",
   "mimetype": "text/x-python",
   "name": "python",
   "nbconvert_exporter": "python",
   "pygments_lexer": "ipython3",
   "version": "3.10.10"
  },
  "papermill": {
   "default_parameters": {},
   "duration": 3289.656583,
   "end_time": "2023-05-16T03:45:30.358633",
   "environment_variables": {},
   "exception": null,
   "input_path": "__notebook__.ipynb",
   "output_path": "__notebook__.ipynb",
   "parameters": {},
   "start_time": "2023-05-16T02:50:40.702050",
   "version": "2.4.0"
  }
 },
 "nbformat": 4,
 "nbformat_minor": 5
}
